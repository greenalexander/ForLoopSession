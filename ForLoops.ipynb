{
 "cells": [
  {
   "cell_type": "code",
   "execution_count": null,
   "id": "removed-pledge",
   "metadata": {},
   "outputs": [],
   "source": [
    "\n",
    "# I'll ask you to open a blank notebook"
   ]
  },
  {
   "cell_type": "code",
   "execution_count": null,
   "id": "veterinary-million",
   "metadata": {},
   "outputs": [],
   "source": [
    "\n",
    "# We always comment our code: \n",
    "    # why? Our future selves & collaborators\n",
    "    # how? "
   ]
  },
  {
   "cell_type": "code",
   "execution_count": null,
   "id": "included-kernel",
   "metadata": {},
   "outputs": [],
   "source": [
    "\n",
    "# In terms of the for-loop: 1. Abstract, 2. Cats, 3. Data-examples\n",
    "    # 4. Combine for-loops with if-else statements from last time. "
   ]
  },
  {
   "cell_type": "code",
   "execution_count": null,
   "id": "encouraging-crisis",
   "metadata": {},
   "outputs": [],
   "source": [
    "\n",
    "# The for loop allows you to perform a task repeatedly on every element within an object, such as every name in a list.\n",
    "\n",
    "# For each item in the list\n",
    "    # perform task_A on said object.\n",
    "    # Once task_A has been completed, move to next object in the list"
   ]
  },
  {
   "cell_type": "code",
   "execution_count": null,
   "id": "higher-drive",
   "metadata": {},
   "outputs": [],
   "source": [
    "\n",
    "# 1. Abstract:"
   ]
  },
  {
   "cell_type": "code",
   "execution_count": null,
   "id": "lightweight-naples",
   "metadata": {},
   "outputs": [],
   "source": [
    "\n",
    "for i in object:    # Remember the colon\n",
    "    some_function(i)"
   ]
  },
  {
   "cell_type": "code",
   "execution_count": null,
   "id": "mobile-contract",
   "metadata": {},
   "outputs": [],
   "source": [
    "\n",
    "# 2. Cats!"
   ]
  },
  {
   "cell_type": "code",
   "execution_count": 43,
   "id": "front-diamond",
   "metadata": {},
   "outputs": [],
   "source": [
    "\n",
    "# First, make a list of the cats. \n",
    "# What kind of brackets?\n",
    "\n",
    "cat_list = ['Gigio', 'Tombolo', 'Memi', 'Ponnie']\n",
    "\n",
    "# We're using quotation marks so that Python knows these are names/strings"
   ]
  },
  {
   "cell_type": "code",
   "execution_count": 46,
   "id": "federal-wallpaper",
   "metadata": {},
   "outputs": [
    {
     "name": "stdout",
     "output_type": "stream",
     "text": [
      "I have petGigio\n",
      "I have petTombolo\n",
      "I have petMemi\n",
      "I have petPonnie\n"
     ]
    }
   ],
   "source": [
    "\n",
    "# I've made my list, and I want to pet each cat. \n",
    "\n",
    "for cat in cat_list: \n",
    "    print ('I have pet' + cat)\n",
    "    \n",
    "# 2 things to note: \n",
    "    # For strings, '+' means concatenate, not the mathematical addition\n",
    "    # No space between 'pet' and cat - how do?"
   ]
  },
  {
   "cell_type": "code",
   "execution_count": null,
   "id": "passing-beverage",
   "metadata": {},
   "outputs": [],
   "source": [
    "\n",
    "# 3. Data-examples"
   ]
  },
  {
   "cell_type": "code",
   "execution_count": 64,
   "id": "understood-queen",
   "metadata": {
    "scrolled": true
   },
   "outputs": [
    {
     "name": "stdout",
     "output_type": "stream",
     "text": [
      "4.0\n",
      "12.0\n",
      "16.0\n",
      "6.4\n"
     ]
    }
   ],
   "source": [
    "\n",
    "# List of prices, and we need to remove 20% because I'm having a sale \n",
    "prices_list = [5.00, 15.00, 20.00, 8.00]\n",
    "\n",
    "# How would we use a for-loop to give us 80% of the original price? Syntax. \n",
    "\n",
    "for price in prices_list:\n",
    "    print (price * 0.80)\n",
    "    \n",
    "# This list is obviously small, so it wouldn't be hard to do this manually. \n",
    "    # But imagine you're a big company with hundreds of products - it would take ages to do this manually"
   ]
  },
  {
   "cell_type": "code",
   "execution_count": 30,
   "id": "federal-jordan",
   "metadata": {},
   "outputs": [
    {
     "name": "stdout",
     "output_type": "stream",
     "text": [
      "(+44) 07897897897\n",
      "(+44) 01877377888\n",
      "(+44) 01926586223\n"
     ]
    }
   ],
   "source": [
    "\n",
    "# List of UK  telephone numbers, but we are international company, so need to add UK area code\n",
    "\n",
    "phone_numbers = ['07897897897', '01877377888', '01926586223']\n",
    "\n",
    "    # Why use quotation marks for telephone numbers? \n",
    "        # Telephone numbers aren't like normal numbers, e.g., highest/lowest/average isn't informative\n",
    "\n",
    "        \n",
    "# Area code for UK is +44; how would we add this to each item with a for-loop?\n",
    "\n",
    "for number in phone_numbers: \n",
    "    print ('(+44) ' + number)"
   ]
  },
  {
   "cell_type": "code",
   "execution_count": null,
   "id": "chubby-damages",
   "metadata": {},
   "outputs": [],
   "source": [
    "\n",
    "# 4. if-else!"
   ]
  },
  {
   "cell_type": "code",
   "execution_count": null,
   "id": "developing-fifty",
   "metadata": {},
   "outputs": [],
   "source": [
    "\n",
    "# For loops are useful, but even more useful when combined with other Python statements. E.g., if-else!\n",
    "\n",
    "# E.g., you have a list and you want to apply an if-else statement to that list. "
   ]
  },
  {
   "cell_type": "code",
   "execution_count": 48,
   "id": "prospective-taxation",
   "metadata": {},
   "outputs": [
    {
     "name": "stdout",
     "output_type": "stream",
     "text": [
      "This is not too expensive\n"
     ]
    }
   ],
   "source": [
    "\n",
    "# What is the syntax of an if-else statement? \n",
    "\n",
    "if price > 100:\n",
    "    print('This is too expensive')\n",
    "else:\n",
    "    print('This is not too expensive')"
   ]
  },
  {
   "cell_type": "code",
   "execution_count": 49,
   "id": "resistant-headset",
   "metadata": {},
   "outputs": [
    {
     "data": {
      "text/plain": [
       "['07897897897', '01877377888', '01926586223']"
      ]
     },
     "execution_count": 49,
     "metadata": {},
     "output_type": "execute_result"
    }
   ],
   "source": [
    "\n",
    "# Phone numbers\n",
    "phone_numbers"
   ]
  },
  {
   "cell_type": "code",
   "execution_count": null,
   "id": "median-france",
   "metadata": {},
   "outputs": [],
   "source": [
    "\n",
    "# In the UK, a number starting with '07' is a mobile phone. Maybe we want to separate mobiles and landlines. \n",
    "# So, we need a for-loop that checks to see if each item in the list is a mobile"
   ]
  },
  {
   "cell_type": "code",
   "execution_count": null,
   "id": "international-airplane",
   "metadata": {},
   "outputs": [],
   "source": [
    "\n",
    "# With any complex code, it's useful to break it down into smaller steps. \n",
    "\n",
    "# First: what would our if-else statement look like? \n",
    "\n",
    "if number.startswith('07'):\n",
    "    print (number + ' is a mobile phone number')\n",
    "else:\n",
    "    print (number + ' is not a mobile phone number')\n",
    "\n",
    "# Note: new code, startswith (checks to see if your string starts with that)\n",
    "        \n",
    "# This is obviously a small list, but imagine if you are amazon: what if you need to do something for \n",
    "    # every sale, or every customer account? Would take too long"
   ]
  },
  {
   "cell_type": "code",
   "execution_count": null,
   "id": "genetic-poison",
   "metadata": {},
   "outputs": [],
   "source": [
    "\n",
    "# Now we have our if-else statement, we can add our for loops"
   ]
  },
  {
   "cell_type": "code",
   "execution_count": 55,
   "id": "operating-closure",
   "metadata": {},
   "outputs": [
    {
     "name": "stdout",
     "output_type": "stream",
     "text": [
      "07897897897 is a mobile phone number\n",
      "01877377888 is not a mobile phone number\n",
      "01926586223 is not a mobile phone number\n"
     ]
    }
   ],
   "source": [
    "\n",
    "for number in phone_numbers:\n",
    "    if number.startswith('07'):\n",
    "        print (number + ' is a mobile phone number')\n",
    "    else:\n",
    "        print (number + ' is not a mobile phone number')"
   ]
  },
  {
   "cell_type": "code",
   "execution_count": null,
   "id": "flush-prospect",
   "metadata": {},
   "outputs": [],
   "source": [
    "\n",
    "# Again, this is a small list, but imagine you're Amazon or Microsoft, and you do this for every customer/sale? "
   ]
  },
  {
   "cell_type": "code",
   "execution_count": 65,
   "id": "studied-router",
   "metadata": {},
   "outputs": [
    {
     "data": {
      "text/plain": [
       "[5.0, 15.0, 20.0, 8.0]"
      ]
     },
     "execution_count": 65,
     "metadata": {},
     "output_type": "execute_result"
    }
   ],
   "source": [
    "\n",
    "# Final task: think back to our price list. Maybe we only want to add a discount to items > 10\n",
    "\n",
    "prices_list"
   ]
  },
  {
   "cell_type": "code",
   "execution_count": 66,
   "id": "ambient-aberdeen",
   "metadata": {},
   "outputs": [
    {
     "name": "stdout",
     "output_type": "stream",
     "text": [
      "5.0\n",
      "12.0\n",
      "16.0\n",
      "8.0\n"
     ]
    }
   ],
   "source": [
    "\n",
    "# Again, break the code down! First the if-else statement; then add the for loop that applies it to every item\n",
    "\n",
    "for price in prices_list:\n",
    "    if price > 10:\n",
    "        print (price * 0.80)\n",
    "    else:\n",
    "        print (price)"
   ]
  },
  {
   "cell_type": "code",
   "execution_count": null,
   "id": "emerging-basis",
   "metadata": {},
   "outputs": [],
   "source": [
    "\n",
    "# BACK TO SLIDES!!!!!!!!!!\n"
   ]
  },
  {
   "cell_type": "code",
   "execution_count": 59,
   "id": "bibliographic-deployment",
   "metadata": {},
   "outputs": [
    {
     "name": "stdout",
     "output_type": "stream",
     "text": [
      "1 is odd\n",
      "2 is even\n",
      "3 is odd\n",
      "4 is even\n",
      "5 is odd\n",
      "6 is even\n",
      "7 is odd\n",
      "8 is even\n",
      "9 is odd\n"
     ]
    }
   ],
   "source": [
    "\n",
    "# For each number in the range 1-10, print whether it is odd or even\n",
    "        # What does it mean for a number to be even? Divides evenly into 2\n",
    "\n",
    "# In general, for more complex code, break it down!\n",
    "    # Start off with the if statement: if even, print (number is even), else, print odd\n",
    "        # if number % 2 == 0: print (format(str(number)) + ' is even') else: print (format(str(number)) + ' is odd')\n",
    "    \n",
    "for number in range(1, 10):\n",
    "    if number % 2 == 0:\n",
    "        print (format(str(number)) + ' is even')\n",
    "    else:\n",
    "        print (format(str(number)) + ' is odd')"
   ]
  },
  {
   "cell_type": "code",
   "execution_count": null,
   "id": "planned-swaziland",
   "metadata": {},
   "outputs": [],
   "source": [
    "\n",
    "# Fizzbuzz!\n",
    "# 1-30; 1) If a number is divisible by 3, print \"fizz.\" 2) If a number is divisible by 5, print \"buzz.\" \n",
    "    # 3) If a number is both divisible by 3 and by 5, print \"fizzbuzz.\" 4) Otherwise, print just the number.\n",
    "    \n",
    "for num in range(1, 31):\n",
    "    if num % 15 == 0:\n",
    "        print(num, ' fizzbuzz')\n",
    "    elif num % 5 == 0:\n",
    "        print(num, ' buzz')\n",
    "    elif num % 3 == 0:\n",
    "        print(num, ' fizz')\n",
    "    else:\n",
    "        print(num)  "
   ]
  },
  {
   "cell_type": "code",
   "execution_count": null,
   "id": "unsigned-china",
   "metadata": {},
   "outputs": [],
   "source": [
    "\n",
    "# For loop with the range function\n",
    "    # Reminder, what does range do? Generates a list of numbers\n",
    "    \n",
    "# For each number between 1 and 15, add 3\n",
    "for number in range(1, 15):\n",
    "    print (number + 3)"
   ]
  },
  {
   "cell_type": "code",
   "execution_count": null,
   "id": "animal-birth",
   "metadata": {},
   "outputs": [],
   "source": [
    "\n",
    "# animal list: capitalise and add to a new list\n",
    "\n",
    "animals = ['duck', 'rat', 'boar', 'slug', 'mammoth', 'gazelle','stapler']\n",
    "newanimals = []\n",
    "for animal in animals:\n",
    "    newanimals.append((animal.upper()[0] + animal[1:]))\n",
    " \n",
    "print(newanimals)"
   ]
  }
 ],
 "metadata": {
  "kernelspec": {
   "display_name": "Python 3",
   "language": "python",
   "name": "python3"
  },
  "language_info": {
   "codemirror_mode": {
    "name": "ipython",
    "version": 3
   },
   "file_extension": ".py",
   "mimetype": "text/x-python",
   "name": "python",
   "nbconvert_exporter": "python",
   "pygments_lexer": "ipython3",
   "version": "3.8.5"
  }
 },
 "nbformat": 4,
 "nbformat_minor": 5
}
